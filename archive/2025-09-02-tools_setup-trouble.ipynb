{
 "cells": [
  {
   "cell_type": "code",
   "execution_count": null,
   "id": "160deceb",
   "metadata": {
    "vscode": {
     "languageId": "yaml"
    }
   },
   "outputs": [],
   "source": [
    "---\n",
    "title: Troubleshooting Guide\n",
    "description: Recovery guide for common issues with GitHub, cloning, virtual environments, and running your website.\n",
    "permalink: /tools/trouble\n",
    "author_profile: false\n",
    "published: false\n",
    "---"
   ]
  },
  {
   "cell_type": "markdown",
   "id": "0aec5a25",
   "metadata": {},
   "source": [
    "## 🔧 Tool Setup Troubleshooting Guide\n",
    "\n",
    "Use this page if something is not working.  \n",
    "Each section is independent — jump directly to the area you are stuck.  \n",
    "\n",
    "---"
   ]
  },
  {
   "cell_type": "markdown",
   "id": "cfcf0407",
   "metadata": {},
   "source": [
    "## GitHub Commit / Config Recovery\n",
    "\n",
    "Use these commands if git commit is failing\n",
    "\n",
    "✅ **Expectation**  \n",
    "You have a GitHub username + email\n",
    "\n",
    "```bash\n",
    "git config --list` # shows your GitHub username + email.  \n",
    "```\n",
    "\n",
    "❌ **If not personalized, run to match your credentials:**  \n",
    "\n",
    "```bash\n",
    "git config --global user.name \"jm1021\"        # change to your GitHub ID\n",
    "git config --global user.email \"jm1021@gmail.com\"  # change to your Email\n",
    "```\n",
    "\n",
    "---"
   ]
  },
  {
   "cell_type": "code",
   "execution_count": 3,
   "id": "281b7fea",
   "metadata": {
    "vscode": {
     "languageId": "shellscript"
    }
   },
   "outputs": [
    {
     "name": "stdout",
     "output_type": "stream",
     "text": [
      "core.repositoryformatversion=0\n",
      "core.filemode=true\n",
      "core.bare=false\n",
      "core.logallrefupdates=true\n",
      "remote.origin.url=https://mataiodoxion@github.com/mataiodoxion/mataiodoxion_2026.git\n",
      "remote.origin.fetch=+refs/heads/*:refs/remotes/origin/*\n",
      "branch.master.remote=origin\n",
      "branch.master.merge=refs/heads/master\n",
      "branch.master.vscode-merge-base=origin/master\n",
      "user.name=mataiodoxion\n",
      "credential.helper=store\n"
     ]
    }
   ],
   "source": [
    "%%script bash\n",
    "\n",
    "git config --list | grep -vE \"user.email|Pa*\""
   ]
  },
  {
   "cell_type": "markdown",
   "id": "a62ec392",
   "metadata": {},
   "source": [
    "## Directory + Clone Recovery\n",
    "\n",
    "✅ Expectation\n",
    "You can cd into your personal directory, and an ls shows your repo folder (ex: student).\n",
    "\n",
    "### Navigate\n",
    "\n",
    "```bash\n",
    "cd ~/jm1021 # change jm1021 to your user directory name\n",
    "```\n",
    "\n",
    "❌ If cd fails, run:\n",
    "\n",
    "```bash\n",
    "mkdir ~/jm1021\n",
    "cd ~/jm1021\n",
    "```\n",
    "\n",
    "### Check for repo folder\n",
    "\n",
    "```bash\n",
    "ls # lshould show \"student\"\n",
    "```\n",
    "\n",
    "❌ If missing, run:\n",
    "\n",
    "```bash\n",
    "git clone https://github.com/jm1021/student.git # change to personal location of repo\n",
    "```\n",
    "\n",
    "---"
   ]
  },
  {
   "cell_type": "code",
   "execution_count": 12,
   "id": "83f121f2",
   "metadata": {
    "vscode": {
     "languageId": "shellscript"
    }
   },
   "outputs": [
    {
     "name": "stdout",
     "output_type": "stream",
     "text": [
      "mataiodoxion_2026\n"
     ]
    }
   ],
   "source": [
    "%%script bash\n",
    "\n",
    "cd ../../\n",
    "ls -a | grep \"mataiodoxion_2026\""
   ]
  },
  {
   "cell_type": "markdown",
   "id": "491d8b65",
   "metadata": {},
   "source": [
    "## Virtual Environment Recovery\n",
    "\n",
    "✅ Expectation\n",
    "Your terminal prompt shows (venv) prefix.\n",
    "\n",
    "### Run Vitual Environment\n",
    "\n",
    "```bash\n",
    "source venv/bin/activate\n",
    "```\n",
    "\n",
    "❌ If it fails\n",
    "\n",
    "```bash\n",
    "./scripts/venv.sh\n",
    "source venv/bin/activate\n",
    "```\n",
    "\n",
    "### VSCode Launch and Memories\n",
    "\n",
    "✅ Satisfying the pre-requisites\n",
    "\n",
    "- In project directory of your repo `pwd`\n",
    "- Sourcing virtual environment `source venv/bin/activate`\n",
    "- Ensure your terminal prompt shows the active virtual environment `(venv)`.\n",
    "\n",
    "You are now ready to load VSCode and build a proper memory to open your project.\n",
    "\n",
    "```bash\n",
    "code .\n",
    "```\n",
    "\n",
    "✅ Verify VSCode launch\n",
    "\n",
    "- Terminal and presence of `(venv)` prompt\n",
    "- Open your Jokes IPYNB notebook and select the Python kernel with the `venv` prefix.\n",
    "\n",
    "❌ If you fail verification\n",
    "\n",
    "You may have opened your repo project without activating the proper `(venv)` environment.\n",
    "\n",
    "Check the `Recent` listings. If there are entries that look incorrect or outdated (bad memories), remove them all.\n",
    "\n",
    "- Shift-Cmd-P (Mac) or Shift-Ctl-P (Windows, KASM)\n",
    "- type: Clear Recently Open -- select and confirm\n",
    "- close VSCode\n",
    "- Repeat VSCode Launch and Memories\n",
    "\n",
    "---"
   ]
  },
  {
   "cell_type": "code",
   "execution_count": 18,
   "id": "00b94b8d",
   "metadata": {
    "vscode": {
     "languageId": "shellscript"
    }
   },
   "outputs": [
    {
     "name": "stdout",
     "output_type": "stream",
     "text": [
      "(venv) \n"
     ]
    }
   ],
   "source": [
    "%%script bash\n",
    "\n",
    "cd ../\n",
    "source venv/bin/activate\n",
    "echo \"$PS1\""
   ]
  },
  {
   "cell_type": "markdown",
   "id": "0f2c642b",
   "metadata": {},
   "source": [
    "## Version Checks\n",
    "\n",
    "✅ Expectation\n",
    "\n",
    "Run the bash script below\n",
    "- Output is expected for each `### Command`\n",
    "- Version may be slightly different, but ask if you are not sure\n",
    "* Java kernels are required for CSA only\n",
    "\n",
    "❌ If it fails\n",
    "\n",
    "Best course of action is to run OS specific activate scripts from `pages` project directory\n",
    "\n",
    "```bash\n",
    "./scripts/activate_ubuntu.sh # windows ubuntu\n",
    "./scripts/activate_macos.sh # macos\n",
    "./scripts/activate.sh # help setup git config options\n",
    "```\n"
   ]
  },
  {
   "cell_type": "code",
   "execution_count": 23,
   "id": "537e59be",
   "metadata": {
    "vscode": {
     "languageId": "shellscript"
    }
   },
   "outputs": [
    {
     "name": "stdout",
     "output_type": "stream",
     "text": [
      "### Command: python --version\n",
      "Python 3.13.5\n",
      "### Command: pip --version\n",
      "pip 25.2 from /usr/lib/python3.13/site-packages/pip (python 3.13)\n",
      "### Command: ruby -v\n",
      "ruby 3.4.4 (2025-05-14 revision a38531fd3f) +PRISM [x86_64-linux]\n",
      "### Command: bundle -v\n",
      "Bundler version 2.7.1\n",
      "### Command: gem -v\n",
      "3.6.7\n",
      "### Command: jupyter --version\n",
      "Selected Jupyter core packages...\n",
      "IPython          : 9.4.0\n",
      "ipykernel        : 6.30.0\n",
      "ipywidgets       : not installed\n",
      "jupyter_client   : 8.6.3\n",
      "jupyter_core     : 5.8.1\n",
      "jupyter_server   : 2.16.0\n",
      "jupyterlab       : 4.4.5\n",
      "nbclient         : 0.10.2\n",
      "nbconvert        : 7.16.6\n",
      "nbformat         : 5.10.4\n",
      "notebook         : 7.4.4\n",
      "qtconsole        : not installed\n",
      "traitlets        : 5.14.3\n",
      "### Command: jupyter kernelspec list\n",
      "Available kernels:\n",
      "  python3    /usr/share/jupyter/kernels/python3\n",
      "### Command: git config --local user.name\n",
      "mataiodoxion\n",
      "### Command: git config --local user.email\n"
     ]
    }
   ],
   "source": [
    "%%script bash\n",
    "\n",
    "# Define an array of commands\n",
    "commands=(\"python --version\" \"pip --version\" \"ruby -v\" \"bundle -v\" \"gem -v\" \"jupyter --version\" \"jupyter kernelspec list\" \"git config --local user.name\" \"git config --local user.email\")\n",
    "\n",
    "\n",
    "for cmd in \"${commands[@]}\"; do\n",
    "  echo \"### Command: $cmd\"\n",
    "  bash -c \"$cmd\" 2>/dev/null | grep -vE \".com\" || true\n",
    "done"
   ]
  }
 ],
 "metadata": {
  "kernelspec": {
   "display_name": "Python 3",
   "language": "python",
   "name": "python3"
  },
  "language_info": {
   "codemirror_mode": {
    "name": "ipython",
    "version": 3
   },
   "file_extension": ".py",
   "mimetype": "text/x-python",
   "name": "python",
   "nbconvert_exporter": "python",
   "pygments_lexer": "ipython3",
   "version": "3.13.5"
  }
 },
 "nbformat": 4,
 "nbformat_minor": 5
}
