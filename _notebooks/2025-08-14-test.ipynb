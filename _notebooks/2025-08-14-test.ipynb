{
 "cells": [
  {
   "cell_type": "markdown",
   "id": "50cda7ff",
   "metadata": {},
   "source": [
    "---\n",
    "title: test\n",
    "---"
   ]
  },
  {
   "cell_type": "code",
   "execution_count": null,
   "id": "ceb71a6f",
   "metadata": {
    "vscode": {
     "languageId": "plaintext"
    }
   },
   "outputs": [],
   "source": []
  },
  {
   "cell_type": "markdown",
   "id": "6155f893",
   "metadata": {},
   "source": [
    "<button type=\"button\" onclick=\"alert('Button clicked!')\">Click Me</button>"
   ]
  }
 ],
 "metadata": {
  "language_info": {
   "name": "python"
  }
 },
 "nbformat": 4,
 "nbformat_minor": 5
}
