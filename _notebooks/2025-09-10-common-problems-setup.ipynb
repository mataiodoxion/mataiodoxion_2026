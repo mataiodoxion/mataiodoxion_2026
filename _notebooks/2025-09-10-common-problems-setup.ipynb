{
 "cells": [
  {
   "cell_type": "markdown",
   "id": "444c1aad",
   "metadata": {},
   "source": [
    "---\n",
    "title: A Brief Comment on LxD Init\n",
    "description: A brief overview of certain \n",
    "author_profile: false\n",
    "---"
   ]
  },
  {
   "cell_type": "markdown",
   "id": "39fbf2ea",
   "metadata": {},
   "source": [
    "## Common Issues\n",
    "\n",
    "After debugging a bit for other people and tinkering on my own Arch installation, I've ran into a bunch of problems.\n",
    "\n",
    "The majority of these problems can simply be resolved by running in `venv`:\n",
    "\n",
    "```console\n",
    "➜  pages git:(main) make\n",
    "Stopping server...\n",
    "Stopping logging process...\n",
    "Traceback (most recent call last):\n",
    "  File \"<string>\", line 1, in <module>\n",
    "    from scripts.convert_notebooks import convert_notebooks; convert_notebooks()\n",
    "    ^^^^^^^^^^^^^^^^^^^^^^^^^^^^^^^^^^^^^^^^^^^^^^^^^^^^^^^\n",
    "  File \"/home/parallaxis/Programming/School/opencs/pages/scripts/convert_notebooks.py\", line 15, in <module>\n",
    "    from scripts.progress_bar import ProgressBar\n",
    "  File \"/home/parallaxis/Programming/School/opencs/pages/scripts/progress_bar.py\", line 1, in <module>\n",
    "    from progress.bar import ChargingBar\n",
    "ModuleNotFoundError: No module named 'progress'\n",
    "make: *** [Makefile:146: _posts/Foundation/C-github_pages/2025-08-21-github_pages_jokes_IPYNB_2_.md] Error 1\n",
    "\n",
    "➜  pages git:(main) source venv/bin/activate\n",
    "(venv) ➜  pages git:(main) make\n",
    "Stopping server...\n",
    "Stopping logging process...\n",
    "Notebook conversion progress: 1/261 ∙∙∙∙∙∙∙∙∙∙∙∙∙∙∙∙∙∙∙∙∙∙∙∙∙∙∙∙∙∙∙∙ 0.4% \n",
    "...\n",
    "```\n",
    "\n",
    "Sometimes, this also doesn't work, and errors due to a lack of dependencies. The most common missing dependency I've seen is the Ruby gem `erb`.\n",
    "\n",
    "This can simply be installed by adding this to the `Gemfile`:\n",
    "```\n",
    "gem \"erb\"\n",
    "```\n",
    "and upon running `bundle install` and `make`, everything should be resolved.\n"
   ]
  },
  {
   "cell_type": "markdown",
   "id": "aed8c3ca",
   "metadata": {},
   "source": [
    "## Running Arch\n",
    "Surprisingly, there were very few problems I ran into while using Arch for AP CSP. There were a few problems with installing a Ruby toolchain, Bundler, and the like, but other than that, very few problems. The main point of speculation is how I'll run Ditto... "
   ]
  },
  {
   "cell_type": "markdown",
   "id": "5d832bdd",
   "metadata": {},
   "source": [
    "## Running a Custom Site\n",
    "\n",
    "I didn't want to use the given templates because they were really bloated and the load times were abysmal. I figured I could just build my own from a different Jekyll theme and only pull what I needed (which would require a bit tinkering because they aren't so compatible). I ended up using [minimal-mistakes](https://mmistakes.github.io/minimal-mistakes/) with a dark theme. The notebooks tended to be incompatible with their front matters, but I fixed those by removing a few fields. \n",
    "\n",
    "Needless to say, I had to do a bunch of tinkering to get my site (mainly with having the blog pages display wider and without my author profile which was not necessary). But, everything's been working nicely and it's quite literally 3x as fast. I also implemented my own Makefile with a method to refresh notebooks which I made an issue on [here](https://github.com/mataiodoxion/lxd-apis/issues/2)."
   ]
  }
 ],
 "metadata": {
  "language_info": {
   "name": "python"
  }
 },
 "nbformat": 4,
 "nbformat_minor": 5
}
