{
 "cells": [
  {
   "cell_type": "raw",
   "id": "4e3e77eb",
   "metadata": {
    "vscode": {
     "languageId": "raw"
    }
   },
   "source": [
    "---\n",
    "title: \"Crashers - 3.17 Algorithmic Efficiency Javascript Hacks\"\n",
    "description: Learn about algorithms and how they can be more or less efficient\n",
    "permalink: /csp/big-idea-3/algorithmic-efficiency/p4/hw-js\n",
    "author_profile: false\n",
    "hidden: true\n",
    "---"
   ]
  },
  {
   "cell_type": "markdown",
   "id": "825f983c",
   "metadata": {},
   "source": [
    "## Algorithmic Efficiency Hacks: Javascript\n",
    "\n",
    "Let's test your knowledge on algorithmic efficiency!\n",
    "\n",
    "### Hack 1: How Much Time?\n",
    "\n",
    "#### Objective: write the time complexity of the algorithm below using Big-O notation.\n",
    "(don't worry about special cases such as n = 1 or n = 0)."
   ]
  },
  {
   "cell_type": "code",
   "execution_count": 1,
   "id": "1fc4bcce",
   "metadata": {
    "vscode": {
     "languageId": "javascript"
    }
   },
   "outputs": [
    {
     "data": {
      "application/javascript": "let n = 5; // change this value to test different outputs!\n\nfor (let i = 0; i < n * 2; i++) {\n    console.log(i);\n}\n\n//TODO: print the above algorithm's time complexity\n//BE CAREFUL - This one might trick some people. Remember that Big-O notation shows how much an algorithm's time complexity GROWS, so coefficients don't matter...\nconsole.log(\"O(n)\");\n",
      "text/plain": [
       "<IPython.core.display.Javascript object>"
      ]
     },
     "metadata": {},
     "output_type": "display_data"
    }
   ],
   "source": [
    "%%javascript\n",
    "let n = 5; // change this value to test different outputs!\n",
    "\n",
    "for (let i = 0; i < n * 2; i++) {\n",
    "    console.log(i);\n",
    "}\n",
    "\n",
    "//TODO: print the above algorithm's time complexity\n",
    "//BE CAREFUL - This one might trick some people. Remember that Big-O notation shows how much an algorithm's time complexity GROWS, so coefficients don't matter...\n",
    "console.log(\"O(n)\");"
   ]
  },
  {
   "cell_type": "markdown",
   "id": "4e562838",
   "metadata": {},
   "source": [
    "### Hack 2: Your Turn!\n",
    "\n",
    "#### Objective: <strong>write</strong> an algorithm with O(n^2) time complexity."
   ]
  },
  {
   "cell_type": "code",
   "execution_count": 3,
   "id": "f9394969",
   "metadata": {
    "vscode": {
     "languageId": "javascript"
    }
   },
   "outputs": [
    {
     "data": {
      "application/javascript": "const n = 10; // change this if you want.\n\n//TODO: Write an algorithm with O(n^2) time complexity\n//Hint: think about nested loops...\nfor (let i = 0; i < n; i++) {\n    for (let j = 0; j< n; j++) {\n        console.log(`(${i}, ${j})`);\n    }\n}\n",
      "text/plain": [
       "<IPython.core.display.Javascript object>"
      ]
     },
     "metadata": {},
     "output_type": "display_data"
    }
   ],
   "source": [
    "%%javascript\n",
    "const n = 10; // change this if you want.\n",
    "\n",
    "//TODO: Write an algorithm with O(n^2) time complexity\n",
    "//Hint: think about nested loops...\n",
    "for (let i = 0; i < n; i++) {\n",
    "    for (let j = 0; j< n; j++) {\n",
    "        console.log(`(${i}, ${j})`);\n",
    "    }\n",
    "}"
   ]
  },
  {
   "cell_type": "markdown",
   "id": "26d353f3",
   "metadata": {},
   "source": [
    "### Hack 3: Gotta Go Fast!\n",
    "\n",
    "#### Objective: Optimize this algorithm so that it has a lower time complexity <strong>without modifying the outer loop</strong>"
   ]
  },
  {
   "cell_type": "code",
   "execution_count": 5,
   "id": "83acbe82",
   "metadata": {
    "vscode": {
     "languageId": "javascript"
    }
   },
   "outputs": [
    {
     "data": {
      "application/javascript": "const n = 10; // change this\nlet count = 0;\n\nfor(let i = 0; i < n; i++){ //Outer loop, DO NOT MODIFY\n    count += i;\n}\nconsole.log(count);\n\n//TODO: Modify the algorithm so that it has a lower time complexity but same output, and keep the outer loop the same\n//Hint: This algorithm has a time complexity of O(n^2).\n",
      "text/plain": [
       "<IPython.core.display.Javascript object>"
      ]
     },
     "metadata": {},
     "output_type": "display_data"
    }
   ],
   "source": [
    "%%javascript\n",
    "const n = 10; // change this\n",
    "let count = 0;\n",
    "\n",
    "for(let i = 0; i < n; i++){ //Outer loop, DO NOT MODIFY\n",
    "    count += i;\n",
    "}\n",
    "console.log(count);\n",
    "\n",
    "//TODO: Modify the algorithm so that it has a lower time complexity but same output, and keep the outer loop the same\n",
    "//Hint: This algorithm has a time complexity of O(n^2)."
   ]
  },
  {
   "cell_type": "markdown",
   "id": "e6e45a7b",
   "metadata": {},
   "source": [
    "### Hack 4: Extra Challenge \n",
    "\n",
    "#### Objective: Write an algorithm that does <strong>NOT</strong> have a time complexity of O(1), O(n), or O(n^x) and identify the time complexity\n",
    "##### (I will not accept O(n^3) or some other power, it needs to be more complex.)"
   ]
  },
  {
   "cell_type": "code",
   "execution_count": 8,
   "id": "87c33c6e",
   "metadata": {
    "vscode": {
     "languageId": "javascript"
    }
   },
   "outputs": [
    {
     "data": {
      "application/javascript": "\n// TODO: Write an algorithm that has a more complicated time complexity than O(n^x).\nfunction fib(n) {\n    if (n <= 1) {\n        return n;\n    } else {\n        return fib(n-1) + fib(n-2);\n    }\n}\n\nconsole.log(fib(5))\n",
      "text/plain": [
       "<IPython.core.display.Javascript object>"
      ]
     },
     "metadata": {},
     "output_type": "display_data"
    }
   ],
   "source": [
    "%%js\n",
    "\n",
    "// TODO: Write an algorithm that has a more complicated time complexity than O(n^x).\n",
    "function fib(n) {\n",
    "    if (n <= 1) {\n",
    "        return n;\n",
    "    } else {\n",
    "        return fib(n-1) + fib(n-2);\n",
    "    }\n",
    "}\n",
    "\n",
    "console.log(fib(5))"
   ]
  }
 ],
 "metadata": {
  "kernelspec": {
   "display_name": "Python 3",
   "language": "python",
   "name": "python3"
  },
  "language_info": {
   "codemirror_mode": {
    "name": "ipython",
    "version": 3
   },
   "file_extension": ".py",
   "mimetype": "text/x-python",
   "name": "python",
   "nbconvert_exporter": "python",
   "pygments_lexer": "ipython3",
   "version": "3.13.7"
  }
 },
 "nbformat": 4,
 "nbformat_minor": 5
}
