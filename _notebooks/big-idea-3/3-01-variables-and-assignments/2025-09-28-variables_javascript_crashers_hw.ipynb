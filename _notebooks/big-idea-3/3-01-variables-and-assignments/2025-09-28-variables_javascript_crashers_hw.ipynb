{
 "cells": [
  {
   "cell_type": "raw",
   "id": "f7d70aa2",
   "metadata": {
    "vscode": {
     "languageId": "raw"
    }
   },
   "source": [
    "---\n",
    "title: \"3.1 Variables & Assignments hacks\"\n",
    "description: Apply your understanding of Variables & Assignments with these hacks\n",
    "permalink: /csp/big-idea-3/variables-and-assignments/p4/hacks-js\n",
    "author_profile: false\n",
    "---"
   ]
  },
  {
   "cell_type": "markdown",
   "id": "ce56910b",
   "metadata": {},
   "source": [
    "# 🐷 Peppa Maze Variables & Assignments Hacks\n",
    "Welcome to the Peppa Maze hacks! These challenges will test your understanding of variables, assignments, and logic in Javascript. Read each task, then write or modify code to solve it."
   ]
  },
  {
   "cell_type": "markdown",
   "id": "7dee3bb5",
   "metadata": {},
   "source": [
    "## Hack 1: JavaScript - Variable Assignment, Naming, and Operators\n",
    "Create variables for Peppa's name, score, and level using good JavaScript naming conventions. Assign initial values, then use operators to update score (add 10) and level (multiply by 2). Print all results."
   ]
  },
  {
   "cell_type": "code",
   "execution_count": 5,
   "id": "e4bee113",
   "metadata": {
    "vscode": {
     "languageId": "javascript"
    }
   },
   "outputs": [
    {
     "data": {
      "application/javascript": "\n// Write your code here\n// Create variables for Peppa's name, score, and level\n// Use operators to update score and level\n\n// In the context of this code snippet, it would be bad convention to make hyperspecific vars here\nlet name = \"Peppa\";\nlet score = 0;\nlet level = 1;\nconsole.log(`name: ${name}, score: ${score}, level: ${level}`);\n\n// Ops\nscore += 10;\nlevel *= 2;\nconsole.log(`name: ${name}, score: ${score}, level: ${level}`);\n",
      "text/plain": [
       "<IPython.core.display.Javascript object>"
      ]
     },
     "metadata": {},
     "output_type": "display_data"
    }
   ],
   "source": [
    "%%js\n",
    "\n",
    "// Write your code here\n",
    "// Create variables for Peppa's name, score, and level\n",
    "// Use operators to update score and level\n",
    "\n",
    "// In the context of this code snippet, it would be bad convention to make hyperspecific vars here\n",
    "let name = \"Peppa\";\n",
    "let score = 0;\n",
    "let level = 1;\n",
    "console.log(`name: ${name}, score: ${score}, level: ${level}`);\n",
    "\n",
    "// Ops\n",
    "score += 10;\n",
    "level *= 2;\n",
    "console.log(`name: ${name}, score: ${score}, level: ${level}`);"
   ]
  },
  {
   "cell_type": "markdown",
   "id": "3f8a5cbe",
   "metadata": {},
   "source": [
    "## Hack 2: JavaScript - Variable Declaration, Assignment, and Operators\n",
    "Declare variables for Peppa and George's scores using good JavaScript naming conventions. Assign initial values, then use operators to update both scores (e.g., Peppa gets 15 points, George loses 5 points). Print both scores."
   ]
  },
  {
   "cell_type": "code",
   "execution_count": 6,
   "id": "c4c80df3",
   "metadata": {
    "vscode": {
     "languageId": "javascript"
    }
   },
   "outputs": [
    {
     "data": {
      "application/javascript": "\n// Write your code here\n// Declare variables for Peppa and George's scores\n// Use operators to update both scores\n\n// Again, here it would be better convention to name the scores `peppa` and `george` given the lack of context\nlet peppaScore = 0;\nlet georgeScore = 0;\nconsole.log(`peppaScore: ${peppaScore}, georgeScore: ${georgeScore}`);\n\n// ops\npeppaScore += 15;\ngeorgeScore -= 5;\nconsole.log(`peppaScore: ${peppaScore}, georgeScore: ${georgeScore}`);\n",
      "text/plain": [
       "<IPython.core.display.Javascript object>"
      ]
     },
     "metadata": {},
     "output_type": "display_data"
    }
   ],
   "source": [
    "%%js\n",
    "\n",
    "// Write your code here\n",
    "// Declare variables for Peppa and George's scores\n",
    "// Use operators to update both scores\n",
    "\n",
    "// Again, here it would be better convention to name the scores `peppa` and `george` given the lack of context\n",
    "let peppaScore = 0;\n",
    "let georgeScore = 0;\n",
    "console.log(`peppaScore: ${peppaScore}, georgeScore: ${georgeScore}`);\n",
    "\n",
    "// ops\n",
    "peppaScore += 15;\n",
    "georgeScore -= 5;\n",
    "console.log(`peppaScore: ${peppaScore}, georgeScore: ${georgeScore}`);"
   ]
  },
  {
   "cell_type": "markdown",
   "id": "30580c24",
   "metadata": {},
   "source": [
    "## Hack 3: JavaScript - Multiple Assignment and Math Operators\n",
    "Peppa and George both start at level 1. Use a single line to assign both their levels to 5. Then, calculate a combined score by multiplying their levels together and multiplying by 10. Print all results."
   ]
  },
  {
   "cell_type": "code",
   "execution_count": 7,
   "id": "67774ff3",
   "metadata": {
    "vscode": {
     "languageId": "javascript"
    }
   },
   "outputs": [
    {
     "data": {
      "application/javascript": "\n// Write your code here\n// let peppaLevel = 1, georgeLevel = 1;\n// Assign both levels to 5 in one line\n// Calculate combinedScore = peppaLevel * georgeLevel * 10;\n// Print all results\n\nlet peppaLevel = 1, georgeLevel = 1;\nconsole.log(`peppaLevel: ${peppaLevel}, georgeLevel: ${georgeLevel}`);\n\npeppaLevel = 5, georgeLevel = 5;\nconsole.log(`peppaLevel: ${peppaLevel}, georgeLevel: ${georgeLevel}`);\n\nlet combinedScore = peppaLevel * georgeLevel * 10;\nconsole.log(`peppaLevel: ${peppaLevel}, georgeLevel: ${georgeLevel}, combinedScore: ${combinedScore}`);\n",
      "text/plain": [
       "<IPython.core.display.Javascript object>"
      ]
     },
     "metadata": {},
     "output_type": "display_data"
    }
   ],
   "source": [
    "%%js\n",
    "\n",
    "// Write your code here\n",
    "// let peppaLevel = 1, georgeLevel = 1;\n",
    "// Assign both levels to 5 in one line\n",
    "// Calculate combinedScore = peppaLevel * georgeLevel * 10;\n",
    "// Print all results\n",
    "\n",
    "let peppaLevel = 1, georgeLevel = 1;\n",
    "console.log(`peppaLevel: ${peppaLevel}, georgeLevel: ${georgeLevel}`);\n",
    "\n",
    "peppaLevel = 5, georgeLevel = 5;\n",
    "console.log(`peppaLevel: ${peppaLevel}, georgeLevel: ${georgeLevel}`);\n",
    "\n",
    "let combinedScore = peppaLevel * georgeLevel * 10;\n",
    "console.log(`peppaLevel: ${peppaLevel}, georgeLevel: ${georgeLevel}, combinedScore: ${combinedScore}`);"
   ]
  }
 ],
 "metadata": {
  "kernelspec": {
   "display_name": "Python 3",
   "language": "python",
   "name": "python3"
  },
  "language_info": {
   "codemirror_mode": {
    "name": "ipython",
    "version": 3
   },
   "file_extension": ".py",
   "mimetype": "text/x-python",
   "name": "python",
   "nbconvert_exporter": "python",
   "pygments_lexer": "ipython3",
   "version": "3.13.7"
  }
 },
 "nbformat": 4,
 "nbformat_minor": 5
}
