{
 "cells": [
  {
   "cell_type": "code",
   "execution_count": null,
   "id": "f8d46d8e",
   "metadata": {
    "vscode": {
     "languageId": "yaml"
    }
   },
   "outputs": [],
   "source": [
    "---\n",
    "title: \"3.1 Variables & Assignments hacks - Python\"\n",
    "description: Apply your understanding of Variables & Assignments with these Python hacks\n",
    "permalink: /csp/big-idea-3/variables-and-assignments/p4/hacks-py\n",
    "author_profile: false\n",
    "published: false\n",
    "---"
   ]
  },
  {
   "cell_type": "markdown",
   "id": "e48e5dfd",
   "metadata": {},
   "source": [
    "# 🐷 Peppa Maze Variables & Assignments Hacks (Python)\n",
    "Welcome to the Peppa Maze hacks! These challenges will test your understanding of variables, assignments, and logic in Python. Read each task, then write or modify code to solve it."
   ]
  },
  {
   "cell_type": "markdown",
   "id": "7333747d",
   "metadata": {},
   "source": [
    "## Hack 1: Python - Variable Assignment, Naming, and Operators\n",
    "Create variables for Peppa's name, score, and level using good Python naming conventions. Assign initial values, then use operators to update score (add 10) and level (multiply by 2). Print all results."
   ]
  },
  {
   "cell_type": "code",
   "execution_count": 1,
   "id": "febf933f",
   "metadata": {},
   "outputs": [
    {
     "name": "stdout",
     "output_type": "stream",
     "text": [
      "name: Peppa, score: 0, level: 1\n",
      "name: Peppa, score: 10, level: 2\n"
     ]
    }
   ],
   "source": [
    "# Write your code here\n",
    "# Create variables for Peppa's name, score, and level\n",
    "# Use operators to update score and level\n",
    "\n",
    "# In the context of this code snippet, it would be bad convention to make hyperspecific vars here\n",
    "name = \"Peppa\"\n",
    "score = 0\n",
    "level = 1\n",
    "print(f'name: {name}, score: {score}, level: {level}')\n",
    "\n",
    "score += 10;\n",
    "level *= 2;\n",
    "print(f'name: {name}, score: {score}, level: {level}')"
   ]
  },
  {
   "cell_type": "markdown",
   "id": "a3133f05",
   "metadata": {},
   "source": [
    "## Hack 2: Python - Variable Declaration, Assignment, and Operators\n",
    "Declare variables for Peppa and George's scores using good Python naming conventions. Assign initial values, then use operators to update both scores (e.g., Peppa gets 15 points, George loses 5 points). Print both scores."
   ]
  },
  {
   "cell_type": "code",
   "execution_count": null,
   "id": "d8501a2d",
   "metadata": {},
   "outputs": [
    {
     "name": "stdout",
     "output_type": "stream",
     "text": [
      "peppaScore: 0, georgeScore: 0\n",
      "peppaScore: 15, georgeScore: -5\n"
     ]
    }
   ],
   "source": [
    "# Write your code here\n",
    "# Declare variables for Peppa and George's scores\n",
    "# Use operators to update both scores\n",
    "peppa_score = 0\n",
    "george_score = 0\n",
    "print(f'peppa_score: {peppa_score}, george_score: {george_score}')\n",
    "\n",
    "peppa_score += 15\n",
    "george_score -= 5\n",
    "print(f'peppa_score: {peppa_score}, george_score: {george_score}')"
   ]
  },
  {
   "cell_type": "markdown",
   "id": "f248c523",
   "metadata": {},
   "source": [
    "## Hack 3: Python - Multiple Assignment and Math Operators\n",
    "Peppa and George both start at level 1. Use Python's multiple assignment feature to assign both their levels to 5 in one line. Then, calculate a combined score by multiplying their levels together and multiplying by 10. Print all results."
   ]
  },
  {
   "cell_type": "code",
   "execution_count": null,
   "id": "bfd55c97",
   "metadata": {},
   "outputs": [
    {
     "name": "stdout",
     "output_type": "stream",
     "text": [
      "peppaLevel: 1, georgeLevel: 1\n"
     ]
    }
   ],
   "source": [
    "# Write your code here\n",
    "# assign peppa level\n",
    "# assign george level\n",
    "# Assign both levels to 5 in one line using multiple assignment\n",
    "# combined_score = peppa_level * george_level * 10\n",
    "# Print all results\n",
    "peppa_level, george_level = 1, 1\n",
    "print(f'peppa_level: {peppa_level}, george_level: {george_level}')\n",
    "\n",
    "peppa_level, george_level = 5, 5\n",
    "print(f'peppaScore: {peppaScore}, georgeScore: {georgeScore}')\n",
    "\n",
    "combined_score = peppa_level * george_level * 10\n",
    "print(f'peppaScore: {peppaScore}, georgeScore: {georgeScore}, combined_score = {combined_score}')"
   ]
  }
 ],
 "metadata": {
  "kernelspec": {
   "display_name": "Python 3",
   "language": "python",
   "name": "python3"
  },
  "language_info": {
   "codemirror_mode": {
    "name": "ipython",
    "version": 3
   },
   "file_extension": ".py",
   "mimetype": "text/x-python",
   "name": "python",
   "nbconvert_exporter": "python",
   "pygments_lexer": "ipython3",
   "version": "3.13.5"
  }
 },
 "nbformat": 4,
 "nbformat_minor": 5
}
