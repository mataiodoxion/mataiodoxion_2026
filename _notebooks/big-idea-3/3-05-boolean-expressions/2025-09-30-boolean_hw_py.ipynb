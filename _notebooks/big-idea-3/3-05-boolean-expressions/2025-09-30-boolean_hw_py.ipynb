{
 "cells": [
  {
   "cell_type": "code",
   "execution_count": null,
   "id": "ae51c009",
   "metadata": {
    "vscode": {
     "languageId": "yaml"
    }
   },
   "outputs": [],
   "source": [
    "---\n",
    "title: Boolean Logic in Programming\n",
    "description: Boolean Hacks For Students To Try In Python\n",
    "permalink: /csp/big-idea-3/boolean-expressions/p4/hw-py\n",
    "author_profile: false\n",
    "hidden: true\n",
    "---"
   ]
  },
  {
   "cell_type": "markdown",
   "id": "b100cb48",
   "metadata": {},
   "source": [
    "# 🔑 Boolean Hacks in Python: A Few New Codes!\n",
    "\n",
    "This notebook has short Boolean challenges. Edit the code where it says `TODO` to make it work."
   ]
  },
  {
   "cell_type": "markdown",
   "id": "1a047e65",
   "metadata": {},
   "source": [
    "## Challenge 1: Positive Number\n",
    "Fix the condition so it prints `num is positive` if the number is greater than 0."
   ]
  },
  {
   "cell_type": "code",
   "execution_count": null,
   "id": "dfeb6542",
   "metadata": {},
   "outputs": [
    {
     "name": "stdout",
     "output_type": "stream",
     "text": [
      "1000 is positive\n"
     ]
    }
   ],
   "source": [
    "num = 1000  # Try changing this number!\n",
    "\n",
    "# TODO: change the condition\n",
    "if num > 0:\n",
    "    print(num, \"is positive\")\n",
    "else:\n",
    "    print(num, \"is NOT positive\")"
   ]
  },
  {
   "cell_type": "markdown",
   "id": "60856dbd",
   "metadata": {},
   "source": [
    "## Challenge 2: Is Even?\n",
    "Change the condition so it prints `num is even` when the number is divisible by 2."
   ]
  },
  {
   "cell_type": "code",
   "execution_count": null,
   "id": "088eec27",
   "metadata": {},
   "outputs": [
    {
     "name": "stdout",
     "output_type": "stream",
     "text": [
      "7 is odd\n"
     ]
    }
   ],
   "source": [
    "num = 7\n",
    "\n",
    "# TODO: check if num is even\n",
    "if not num & 1: # or `num % 2 == 0``, but `not num & 1` is a bit faster in py\n",
    "    print(num, \"is even\")\n",
    "else:\n",
    "    print(num, \"is odd\")"
   ]
  },
  {
   "cell_type": "markdown",
   "id": "030a2f2f",
   "metadata": {},
   "source": [
    "## Challenge 3: Teenager Check\n",
    "Print `Teenager` if age is between 13 and 19 (inclusive). Otherwise print `Not Teenager`. Fix the condition."
   ]
  },
  {
   "cell_type": "code",
   "execution_count": 7,
   "id": "d0d9e37c",
   "metadata": {},
   "outputs": [
    {
     "name": "stdout",
     "output_type": "stream",
     "text": [
      "Teenager\n"
     ]
    }
   ],
   "source": [
    "age = 15\n",
    "\n",
    "# TODO: fix the condition\n",
    "if age >= 13 and age <= 19:\n",
    "    print(\"Teenager\")\n",
    "else:\n",
    "    print(\"Not Teenager\")"
   ]
  },
  {
   "cell_type": "markdown",
   "id": "6e1a1124",
   "metadata": {},
   "source": [
    "## Challenge 4: Lamp Logic\n",
    "We have two switches: `a` and `b`. The lamp should turn ON if **at least one** is True.\n",
    "\n",
    "Fix the condition."
   ]
  },
  {
   "cell_type": "code",
   "execution_count": 8,
   "id": "814b8f63",
   "metadata": {},
   "outputs": [
    {
     "name": "stdout",
     "output_type": "stream",
     "text": [
      "Lamp is ON\n"
     ]
    }
   ],
   "source": [
    "a, b = True, False\n",
    "\n",
    "# TODO: fix condition for at least one True\n",
    "if a or b: \n",
    "    print(\"Lamp is ON\")\n",
    "else:\n",
    "    print(\"Lamp is OFF\")"
   ]
  }
 ],
 "metadata": {
  "kernelspec": {
   "display_name": "Python 3",
   "language": "python",
   "name": "python3"
  },
  "language_info": {
   "codemirror_mode": {
    "name": "ipython",
    "version": 3
   },
   "file_extension": ".py",
   "mimetype": "text/x-python",
   "name": "python",
   "nbconvert_exporter": "python",
   "pygments_lexer": "ipython3",
   "version": "3.13.7"
  }
 },
 "nbformat": 4,
 "nbformat_minor": 5
}
