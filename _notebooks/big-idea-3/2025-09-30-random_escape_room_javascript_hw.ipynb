{
 "cells": [
  {
   "cell_type": "raw",
   "id": "cbbfb22c",
   "metadata": {
    "vscode": {
     "languageId": "raw"
    }
   },
   "source": [
    "---\n",
    "title: \"Escape Room 3.15 - Hack\"\n",
    "description: \"Extended Javascript challenges and hacks for CSP 3.15 Escape Room - Random Values\"\n",
    "permalink: /csp/big-idea-3/random-values/p4/hw-js\n",
    "hidden: true\n",
    "---"
   ]
  },
  {
   "cell_type": "markdown",
   "id": "9f78ed1b",
   "metadata": {},
   "source": [
    "# 🚀 Escape Room Javascript Hacks"
   ]
  },
  {
   "cell_type": "markdown",
   "id": "8272187c",
   "metadata": {
    "vscode": {
     "languageId": "javascript"
    }
   },
   "source": [
    "1. Simulate drawing two random cards, where each card has a value between 1 and 10. Show the two card values and their total.\n"
   ]
  },
  {
   "cell_type": "code",
   "execution_count": null,
   "id": "78a936d8",
   "metadata": {
    "vscode": {
     "languageId": "javascript"
    }
   },
   "outputs": [
    {
     "data": {
      "application/javascript": "// 🎴 Simulate drawing two random cards between 1 and 10\nconst min = 1;\nconst max = 10;\n// TODO: Generate a random value between 1 and 10 for the first card\nlet card1 = Math.floor(Math.random() * (max - min + 1) + min);\n\n// TODO: Generate a random value between 1 and 10 for the second card\nlet card2 = 10;\n\n// TODO: Add the two card values together\nlet total = 10;\n\n// TODO: Print out the results\nconsole.log(\"Card 1:\", card1);\nconsole.log(\"Card 2:\", /* your code here */);\nconsole.log(\"Total:\", /* your code here */);\n",
      "text/plain": [
       "<IPython.core.display.Javascript object>"
      ]
     },
     "metadata": {},
     "output_type": "display_data"
    }
   ],
   "source": [
    "%%js\n",
    "// 🎴 Simulate drawing two random cards between 1 and 10\n",
    "const min = 1;\n",
    "const max = 10;\n",
    "// TODO: Generate a random value between 1 and 10 for the first card\n",
    "let card1 = Math.floor(Math.random() * (max - min + 1) + min);\n",
    "\n",
    "// TODO: Generate a random value between 1 and 10 for the second card\n",
    "let card2 = Math.floor(Math.random() * (max - min + 1) + min);\n",
    "\n",
    "// TODO: Add the two card values together\n",
    "let total = card1 + card2;\n",
    "\n",
    "// TODO: Print out the results\n",
    "console.log(\"Card 1:\", card1);\n",
    "console.log(\"Card 2:\", card2);\n",
    "console.log(\"Total:\", total);\n"
   ]
  },
  {
   "cell_type": "markdown",
   "id": "1d1e615b",
   "metadata": {},
   "source": [
    "2. Create a decision maker where \"Definitely\" appears 30% of the time"
   ]
  },
  {
   "cell_type": "code",
   "execution_count": 3,
   "id": "ccb86ba7",
   "metadata": {
    "vscode": {
     "languageId": "javascript"
    }
   },
   "outputs": [
    {
     "data": {
      "application/javascript": "// 🎲 Decision Maker\n// Goal: \"Definitely\" should appear about 30% of the time when you run this code\n\nconst min = 1;\nconst max = 100;\n// TODO: Generate a random number between 1 and 100\nlet rand = Math.floor(Math.random() * (max - min + 1) + min);\n\n// TODO: Use an if statement to make \"Definitely\" appear 30% of the time\nif (rand <= 30) {\n  console.log(\"Definitely\");\n} else {\n  console.log(\"Not this time\");\n}\n",
      "text/plain": [
       "<IPython.core.display.Javascript object>"
      ]
     },
     "metadata": {},
     "output_type": "display_data"
    }
   ],
   "source": [
    "%%js\n",
    "// 🎲 Decision Maker\n",
    "// Goal: \"Definitely\" should appear about 30% of the time when you run this code\n",
    "\n",
    "const min = 1;\n",
    "const max = 100;\n",
    "// TODO: Generate a random number between 1 and 100\n",
    "let rand = Math.floor(Math.random() * (max - min + 1) + min);\n",
    "\n",
    "// TODO: Use an if statement to make \"Definitely\" appear 30% of the time\n",
    "if (rand <= 30) {\n",
    "  console.log(\"Definitely\");\n",
    "} else {\n",
    "  console.log(\"Not this time\");\n",
    "}\n"
   ]
  },
  {
   "cell_type": "markdown",
   "id": "3a1307fb",
   "metadata": {},
   "source": [
    "3. Simulate one coin flip and one dice roll.\n",
    "\n",
    "- The coin flip should be 0 = Heads or 1 = Tails.\n",
    "\n",
    "- The dice roll should be a number between 1 and 6.\n",
    "\n",
    "- Print out both results."
   ]
  },
  {
   "cell_type": "code",
   "execution_count": 4,
   "id": "5757bb69",
   "metadata": {
    "vscode": {
     "languageId": "javascript"
    }
   },
   "outputs": [
    {
     "data": {
      "application/javascript": "// 🪙 Simulate one coin flip and one dice roll\n\n// TODO: Generate a random value 0 or 1 for the coin\nlet coin = Math.round(Math.random());\n\n// TODO: Print out the coin flip result\nconsole.log(\"Coin flip:\", coin);\n\nconst min = 1;\nconst max = 6;\n// TODO: Generate a random value between 1 and 6 for the dice\nlet dice = Math.floor(Math.random() * (max - min + 1) + min);\n\n// TODO: Print out the dice roll result\nconsole.log(\"Dice roll:\", dice);\n",
      "text/plain": [
       "<IPython.core.display.Javascript object>"
      ]
     },
     "metadata": {},
     "output_type": "display_data"
    }
   ],
   "source": [
    "%%js\n",
    "// 🪙 Simulate one coin flip and one dice roll\n",
    "\n",
    "// TODO: Generate a random value 0 or 1 for the coin\n",
    "let coin = Math.round(Math.random());\n",
    "\n",
    "// TODO: Print out the coin flip result\n",
    "console.log(\"Coin flip:\", coin);\n",
    "\n",
    "const min = 1;\n",
    "const max = 6;\n",
    "// TODO: Generate a random value between 1 and 6 for the dice\n",
    "let dice = Math.floor(Math.random() * (max - min + 1) + min);\n",
    "\n",
    "// TODO: Print out the dice roll result\n",
    "console.log(\"Dice roll:\", dice);\n"
   ]
  },
  {
   "cell_type": "markdown",
   "id": "8b49e277",
   "metadata": {},
   "source": [
    "4. Write code that randomly picks one fortune from a list of 5 possible fortunes and prints it out."
   ]
  },
  {
   "cell_type": "code",
   "execution_count": 49,
   "id": "dd613a02",
   "metadata": {
    "vscode": {
     "languageId": "javascript"
    }
   },
   "outputs": [
    {
     "data": {
      "application/javascript": "// 🔮 Random Fortune Generator\n\n// TODO: Make a list (array) of fortunes\nlet fortunes = [\"Run\", \"Behind you\", \"There's footsteps\", \"You're not crazy\", \"Boo\"];\n\n// TODO: Pick a random index\nlet index = Math.floor(Math.random() * 5);\n\n// TODO: Print out the fortune at that index\nconsole.log(\"Your fortune:\", fortunes[index]);\n",
      "text/plain": [
       "<IPython.core.display.Javascript object>"
      ]
     },
     "metadata": {},
     "output_type": "display_data"
    }
   ],
   "source": [
    "%%js\n",
    "// 🔮 Random Fortune Generator\n",
    "\n",
    "// TODO: Make a list (array) of fortunes\n",
    "let fortunes = [\"Run\", \"Behind you\", \"There's footsteps\", \"You're not crazy\", \"Boo\"];\n",
    "\n",
    "// TODO: Pick a random index\n",
    "let index = Math.floor(Math.random() * 5);\n",
    "\n",
    "// TODO: Print out the fortune at that index\n",
    "console.log(\"Your fortune:\", fortunes[index]);\n"
   ]
  }
 ],
 "metadata": {
  "kernelspec": {
   "display_name": "Python 3",
   "language": "python",
   "name": "python3"
  },
  "language_info": {
   "codemirror_mode": {
    "name": "ipython",
    "version": 3
   },
   "file_extension": ".py",
   "mimetype": "text/x-python",
   "name": "python",
   "nbconvert_exporter": "python",
   "pygments_lexer": "ipython3",
   "version": "3.13.7"
  }
 },
 "nbformat": 4,
 "nbformat_minor": 5
}
