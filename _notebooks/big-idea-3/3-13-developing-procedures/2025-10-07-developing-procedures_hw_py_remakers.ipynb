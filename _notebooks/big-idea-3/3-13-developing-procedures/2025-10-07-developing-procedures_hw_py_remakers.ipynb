{
 "cells": [
  {
   "cell_type": "raw",
   "id": "29fdb64f",
   "metadata": {
    "vscode": {
     "languageId": "raw"
    }
   },
   "source": [
    "---\n",
    "title: Remakers - 3.13 Developing Procedures Python Hacks\n",
    "description: Apply your skills to basic procedure development in Python.\n",
    "permalink: /csp/big-idea-3/developing-procedures/p4/hw-py\n",
    "hidden: true\n",
    "---"
   ]
  },
  {
   "cell_type": "markdown",
   "id": "51406078",
   "metadata": {},
   "source": [
    "### Q1 (Easy)\n",
    "Which of these procedures is named well, provide a **short** explanation of justification"
   ]
  },
  {
   "cell_type": "code",
   "execution_count": null,
   "id": "85877c5a",
   "metadata": {},
   "outputs": [],
   "source": [
    "def mix_ingredients():\n",
    "\n",
    "def do_it():\n",
    "\n",
    "def make_move():"
   ]
  },
  {
   "cell_type": "markdown",
   "id": "e05b98ef",
   "metadata": {},
   "source": [
    "**Explanation Here:**\n",
    "`do_it()` is wrong because its naming is vague"
   ]
  },
  {
   "cell_type": "markdown",
   "id": "3b2e2e46",
   "metadata": {},
   "source": [
    "### Q2 (Medium)\n",
    "Finish the code to have a correctly named procedure"
   ]
  },
  {
   "cell_type": "code",
   "execution_count": 5,
   "id": "e6d4b833",
   "metadata": {},
   "outputs": [
    {
     "name": "stdout",
     "output_type": "stream",
     "text": [
      "Moving forward.\n",
      "Turning left\n",
      "Moving forward again to complete left turn.\n"
     ]
    }
   ],
   "source": [
    "def make_left_turn():\n",
    "    move_forward()\n",
    "    rotate_left()\n",
    "    move_forward_again()\n",
    "\n",
    "##Todo: add corresponding procedure definitions\n",
    "##here- replace this line with your code\n",
    "def move_forward():\n",
    "    print(\"Moving forward.\")\n",
    "\n",
    "##here- replace this line with your code\n",
    "def rotate_left():\n",
    "    print(\"Turning left\")\n",
    "\n",
    "def move_forward_again():\n",
    "    print(\"Moving forward again to complete left turn.\")\n",
    "\n",
    "# Run the procedure\n",
    "if __name__ == '__main__':\n",
    "    make_left_turn()"
   ]
  },
  {
   "cell_type": "markdown",
   "id": "81c68339",
   "metadata": {},
   "source": [
    "### Q3 (Hard)\n",
    "Write code to fulfill the requirements\n",
    "Doing a dance! 🕺💃\n",
    "Must have\n",
    "1. A shimmy left procedure\n",
    "- Print `super cool left slide`\n",
    "2. A shimmy right procedure, print `even cooler right slide`\n",
    "3. Doing a bow to the crowd, print `Great dance!`, `the audience claps at your bow!`"
   ]
  },
  {
   "cell_type": "code",
   "execution_count": 6,
   "id": "9f7c7c6f",
   "metadata": {},
   "outputs": [
    {
     "name": "stdout",
     "output_type": "stream",
     "text": [
      "Super cool left slide\n",
      "Even cooler right slide\n",
      "Great dance!\n",
      "The audience claps and at your bow!\n"
     ]
    }
   ],
   "source": [
    "def sillyDance():\n",
    "    leftSlide()\n",
    "    rightSlide()\n",
    "    bow()\n",
    "\n",
    "def leftSlide():\n",
    "    print(\"Super cool left slide\")\n",
    "\n",
    "def rightSlide():\n",
    "    print(\"Even cooler right slide\")\n",
    "\n",
    "def bow():\n",
    "    print(\"Great dance!\\nThe audience claps and at your bow!\")\n",
    "\n",
    "sillyDance()"
   ]
  },
  {
   "cell_type": "markdown",
   "id": "34a0d824",
   "metadata": {},
   "source": [
    "![silly dance](https://i.redd.it/7bb0v1q2j9ce1.gif)"
   ]
  }
 ],
 "metadata": {
  "kernelspec": {
   "display_name": "Python 3",
   "language": "python",
   "name": "python3"
  },
  "language_info": {
   "codemirror_mode": {
    "name": "ipython",
    "version": 3
   },
   "file_extension": ".py",
   "mimetype": "text/x-python",
   "name": "python",
   "nbconvert_exporter": "python",
   "pygments_lexer": "ipython3",
   "version": "3.13.7"
  }
 },
 "nbformat": 4,
 "nbformat_minor": 5
}
