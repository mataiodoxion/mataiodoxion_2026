{
 "cells": [
  {
   "cell_type": "raw",
   "id": "347e901f",
   "metadata": {
    "vscode": {
     "languageId": "raw"
    }
   },
   "source": [
    "---\n",
    "title: Remakers - 3.13 Developing Procedures JS Hacks\n",
    "author: Krishna Visvanath, Sloane Sommers\n",
    "description: Apply your skills to basic procedure development in Javascript.\n",
    "permalink: /csp/big-idea-3/developing-procedures/p4/hw-js\n",
    "author_profile: false\n",
    "hidden: true\n",
    "---"
   ]
  },
  {
   "cell_type": "markdown",
   "id": "38483feb",
   "metadata": {
    "vscode": {
     "languageId": "raw"
    }
   },
   "source": [
    "### Q1 (Easy)\n",
    "Which of these procedures is named wrong, provide a **short** explanation of justification"
   ]
  },
  {
   "cell_type": "code",
   "execution_count": null,
   "id": "690e6f19",
   "metadata": {},
   "outputs": [],
   "source": [
    "%%js\n",
    "\n",
    "function mixIngredients()\n",
    "\n",
    "function doIt()\n",
    "\n",
    "function makeLeftTurn()"
   ]
  },
  {
   "cell_type": "markdown",
   "id": "bff45a3e",
   "metadata": {},
   "source": [
    "**Explanation Here:**\n",
    "`doIt()` is wrong because its naming is vague and generally does not abide my good naming conventions."
   ]
  },
  {
   "cell_type": "markdown",
   "id": "e5480b09",
   "metadata": {},
   "source": [
    "### Q2 (Medium)\n",
    "Finish the code to have a correctly named procedure"
   ]
  },
  {
   "cell_type": "code",
   "execution_count": null,
   "id": "4bc531e4",
   "metadata": {
    "vscode": {
     "languageId": "javascript"
    }
   },
   "outputs": [],
   "source": [
    "%%js\n",
    "function makeLeftTurn() {\n",
    "    moveForward() ;\n",
    "    rotateLeft() ;\n",
    "    moveForwardAgain() ;\n",
    "}\n",
    "//Todo: add corresponding procedure definitions\n",
    "//here- replace this line with your code {\n",
    "function moveForward() {\n",
    "    console.log(\"Moving forward.\");\n",
    "}\n",
    "\n",
    "//here- replace this line with your code {\n",
    "function rotateLeft() {\n",
    "    console.log(\"Turning left\");\n",
    "}\n",
    "\n",
    "function moveForwardAgain() {\n",
    "    console.log(\"Moving forward again to complete left turn.\");\n",
    "}\n",
    "\n",
    "//Run the procedure\n",
    "makeLeftTurn()"
   ]
  },
  {
   "cell_type": "markdown",
   "id": "d6c06eb0",
   "metadata": {
    "vscode": {
     "languageId": "javascript"
    }
   },
   "source": [
    "### Q3 (Hard)\n",
    "Write code to fulfill the requirements\n",
    "Doing a dance! 🕺💃\n",
    "Must have\n",
    "1. A shimmy left procedure\n",
    "- Print `super cool left slide`\n",
    "2. A shimmy right procedure, print `even cooler right slide`\n",
    "3. Doing a bow to the crowd, print `Great dance!`, `the audience claps at your bow!`"
   ]
  },
  {
   "cell_type": "code",
   "execution_count": null,
   "id": "818139d1",
   "metadata": {
    "vscode": {
     "languageId": "javascript"
    }
   },
   "outputs": [],
   "source": [
    "%%js\n",
    "\n",
    "function sillyDance() {\n",
    "    leftSlide();\n",
    "    rightSlide();\n",
    "    bow();\n",
    "}\n",
    "\n",
    "function leftSlide() {\n",
    "    console.log(\"Super cool left slide\");\n",
    "}\n",
    "\n",
    "function rightSlide() {\n",
    "    console.log(\"Even cooler right slide\");\n",
    "}\n",
    "\n",
    "function bow() {\n",
    "    console.log(\"Great dance!\\nThe audience claps and at your bow!\")\n",
    "}"
   ]
  },
  {
   "cell_type": "markdown",
   "id": "72648f87",
   "metadata": {},
   "source": [
    "![silly dance](https://i.redd.it/7bb0v1q2j9ce1.gif)"
   ]
  }
 ],
 "metadata": {
  "kernelspec": {
   "display_name": "venv",
   "language": "python",
   "name": "python3"
  },
  "language_info": {
   "name": "python",
   "version": "3.12.3"
  }
 },
 "nbformat": 4,
 "nbformat_minor": 5
}
