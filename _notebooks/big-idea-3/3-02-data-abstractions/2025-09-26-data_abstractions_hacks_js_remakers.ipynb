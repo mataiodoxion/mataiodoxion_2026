{
 "cells": [
  {
   "cell_type": "markdown",
   "id": "e4102f0e",
   "metadata": {},
   "source": [
    "---\n",
    "title: 3.2 Data Abstractions JS Hack\n",
    "description: Hack(s) for intro to data abstractions in JS.\n",
    "permalink: /csp/big-idea-3/data-abstractions/p4/hacks-js\n",
    "author_profile: false\n",
    "---"
   ]
  },
  {
   "cell_type": "markdown",
   "id": "690b4172",
   "metadata": {},
   "source": [
    "## JS Lab: Library\n",
    "\n",
    "In this lab, similarly to the Python lab, you'll be working on a simple \"database\" for a library to understand CRUD operations in relation to representing redundant, similar data under one structure -- an abstraction.\n",
    "\n",
    "For JavaScript, you'll have to open the web console from Developer Tools (`ctrl + shift + p` -> `Developer: Toggle developer tools`)."
   ]
  },
  {
   "cell_type": "code",
   "execution_count": 2,
   "id": "d7228dda",
   "metadata": {
    "vscode": {
     "languageId": "javascript"
    }
   },
   "outputs": [
    {
     "data": {
      "application/javascript": "\nlet library = [\n    { title: \"1984\", author: \"George Orwell\", checkedOut: false },\n    { title: \"To Kill a Mockingbird\", author: \"Harper Lee\", checkedOut: true },\n    { title: \"The Great Gatsby\", author: \"F. Scott Fitzgerald\", checkedOut: false }\n];\n\nfunction displayLibrary(lib) {\n    console.log(\"All books in the library:\");\n    lib.forEach((book, i) => {\n        console.log(`Index ${i}:`, book);\n    });\n}\n\nfunction addBook(lib, { title, author, checkedOut = false }) {\n    lib.push({ title, author, checkedOut });\n}\n\nfunction findBook(lib, searchTitle) {\n    const book = lib.find(b => b.title.toLowerCase() === searchTitle.toLowerCase());\n    if (book) {\n        console.log(\"Book found:\", book);\n        return book;\n    } else {\n        console.log(\"Book not found.\");\n        return null;\n    }\n}\n\nfunction updateBook(lib, searchTitle, newCheckedOut) {\n    const idx = lib.findIndex(b => b.title.toLowerCase() === searchTitle.toLowerCase());\n    if (idx !== -1) {\n        lib[idx] = { ...lib[idx], checkedOut: newCheckedOut };\n        console.log(`Updated \"${searchTitle}\":`, lib[idx]);\n    } else {\n        console.log(\"Book not found.\");\n    }\n}\n\nfunction deleteBook(lib, searchTitle) {\n    const idx = lib.findIndex(b => b.title.toLowerCase() === searchTitle.toLowerCase());\n    if (idx !== -1) {\n        const removed = lib.splice(idx, 1)[0];\n        console.log(`Deleted \"${removed.title}\" from library.`);\n    } else {\n        console.log(\"Book not found.\");\n    }\n}\n\n// Example usage\ndisplayLibrary(library);\naddBook(library, { title: \"Brave New World\", author: \"Aldous Huxley\", checkedOut: false });\nfindBook(library, \"1984\");\nupdateBook(library, \"To Kill a Mockingbird\", false);\ndeleteBook(library, \"The Great Gatsby\");\ndisplayLibrary(library);\n",
      "text/plain": [
       "<IPython.core.display.Javascript object>"
      ]
     },
     "metadata": {},
     "output_type": "display_data"
    }
   ],
   "source": [
    "%%js\n",
    "\n",
    "let library = [\n",
    "    { title: \"1984\", author: \"George Orwell\", checkedOut: false },\n",
    "    { title: \"To Kill a Mockingbird\", author: \"Harper Lee\", checkedOut: true },\n",
    "    { title: \"The Great Gatsby\", author: \"F. Scott Fitzgerald\", checkedOut: false }\n",
    "];\n",
    "\n",
    "function displayLibrary(lib) {\n",
    "    console.log(\"All books in the library:\");\n",
    "    lib.forEach((book, i) => {\n",
    "        console.log(`Index ${i}:`, book);\n",
    "    });\n",
    "}\n",
    "\n",
    "function addBook(lib, { title, author, checkedOut = false }) {\n",
    "    lib.push({ title, author, checkedOut });\n",
    "}\n",
    "\n",
    "function findBook(lib, searchTitle) {\n",
    "    const book = lib.find(b => b.title.toLowerCase() === searchTitle.toLowerCase());\n",
    "    if (book) {\n",
    "        console.log(\"Book found:\", book);\n",
    "        return book;\n",
    "    } else {\n",
    "        console.log(\"Book not found.\");\n",
    "        return null;\n",
    "    }\n",
    "}\n",
    "\n",
    "function updateBook(lib, searchTitle, newCheckedOut) {\n",
    "    const idx = lib.findIndex(b => b.title.toLowerCase() === searchTitle.toLowerCase());\n",
    "    if (idx !== -1) {\n",
    "        lib[idx] = { ...lib[idx], checkedOut: newCheckedOut };\n",
    "        console.log(`Updated \"${searchTitle}\":`, lib[idx]);\n",
    "    } else {\n",
    "        console.log(\"Book not found.\");\n",
    "    }\n",
    "}\n",
    "\n",
    "function deleteBook(lib, searchTitle) {\n",
    "    const idx = lib.findIndex(b => b.title.toLowerCase() === searchTitle.toLowerCase());\n",
    "    if (idx !== -1) {\n",
    "        const removed = lib.splice(idx, 1)[0];\n",
    "        console.log(`Deleted \"${removed.title}\" from library.`);\n",
    "    } else {\n",
    "        console.log(\"Book not found.\");\n",
    "    }\n",
    "}\n",
    "\n",
    "// Example usage\n",
    "displayLibrary(library);\n",
    "addBook(library, { title: \"Brave New World\", author: \"Aldous Huxley\", checkedOut: false });\n",
    "findBook(library, \"1984\");\n",
    "updateBook(library, \"To Kill a Mockingbird\", false);\n",
    "deleteBook(library, \"The Great Gatsby\");\n",
    "displayLibrary(library);"
   ]
  }
 ],
 "metadata": {
  "kernelspec": {
   "display_name": "Python 3",
   "language": "python",
   "name": "python3"
  },
  "language_info": {
   "codemirror_mode": {
    "name": "ipython",
    "version": 3
   },
   "file_extension": ".py",
   "mimetype": "text/x-python",
   "name": "python",
   "nbconvert_exporter": "python",
   "pygments_lexer": "ipython3",
   "version": "3.13.7"
  }
 },
 "nbformat": 4,
 "nbformat_minor": 5
}
