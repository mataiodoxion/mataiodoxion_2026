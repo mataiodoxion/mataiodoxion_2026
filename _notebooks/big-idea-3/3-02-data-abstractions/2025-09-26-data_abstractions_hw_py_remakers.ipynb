{
 "cells": [
  {
   "cell_type": "code",
   "execution_count": null,
   "id": "ca7c3f46",
   "metadata": {
    "vscode": {
     "languageId": "yaml"
    }
   },
   "outputs": [],
   "source": [
    "---\n",
    "title: 3.2 Data Abstractions Python Hack\n",
    "description: Hack(s) for intro to data abstractions in Python.\n",
    "permalink: /csp/big-idea-3/data-abstractions/p4/hacks-py\n",
    "author_profile: false\n",
    "hidden: true\n",
    "---"
   ]
  },
  {
   "cell_type": "markdown",
   "id": "14d2f5f9",
   "metadata": {},
   "source": [
    "## Python Lab: Simple DBs\n",
    "\n",
    "In this lab, you'll be working on a simple \"database\" system consisting of dictionaries. The idea here is to understand some basic CRUD actions and how you can use data abstractions (dictionaries in this case) to represent redundant, similar data under a unified structure.\n",
    "\n",
    "You'll have to do some research about some Python syntax for this!\n",
    "\n",
    "You can complete the Python lab by simply running your code and getting your outputs in the Jupyter notebook."
   ]
  },
  {
   "cell_type": "code",
   "execution_count": 2,
   "id": "04367227",
   "metadata": {},
   "outputs": [
    {
     "name": "stdout",
     "output_type": "stream",
     "text": [
      "All records in the list:\n",
      "Index 0: {'name': 'Alice', 'age': 16, 'grade': 'A'}\n",
      "Index 1: {'name': 'Bob', 'age': 17, 'grade': 'B'}\n",
      "Index 2: {'name': 'Charlie', 'age': 16, 'grade': 'C'}\n",
      "Added: {'name': 'David', 'age': 18, 'grade': 'B'}\n",
      "Found: {'name': 'Alice', 'age': 16, 'grade': 'A'}\n",
      "Updated: {'name': 'Bob', 'age': 18, 'grade': 'A'}\n",
      "Deleted record for name: Charlie\n",
      "All records in the list:\n",
      "Index 0: {'name': 'Alice', 'age': 16, 'grade': 'A'}\n",
      "Index 1: {'name': 'Bob', 'age': 18, 'grade': 'A'}\n",
      "Index 2: {'name': 'David', 'age': 18, 'grade': 'B'}\n"
     ]
    }
   ],
   "source": [
    "# Our \"database\" is a list of dictionaries, each representing a record (e.g., a student)\n",
    "db = [\n",
    "    {\"name\": \"Alice\", \"age\": 16, \"grade\": \"A\"},\n",
    "    {\"name\": \"Bob\", \"age\": 17, \"grade\": \"B\"},\n",
    "    {\"name\": \"Charlie\", \"age\": 16, \"grade\": \"C\"}\n",
    "]\n",
    "\n",
    "def display_db(database):\n",
    "    print(\"All records in the list:\")\n",
    "    for i, record in enumerate(database):\n",
    "        print(f\"Index {i}: {record}\")\n",
    "\n",
    "def add_record(database, name, age, grade):\n",
    "    new_record = {\"name\": name, \"age\": age, \"grade\": grade}\n",
    "    database.append(new_record)\n",
    "    print(f\"Added: {new_record}\")\n",
    "\n",
    "def find_record(database, search_name):\n",
    "    for record in database:\n",
    "        if record[\"name\"] == search_name:\n",
    "            print(f\"Found: {record}\")\n",
    "            return record\n",
    "    print(f\"No record found for name: {search_name}\")\n",
    "    return None\n",
    "\n",
    "def update_record(database, search_name, new_age=None, new_grade=None):\n",
    "    for record in database:\n",
    "        if record[\"name\"] == search_name:\n",
    "            if new_age is not None:\n",
    "                record[\"age\"] = new_age\n",
    "            if new_grade is not None:\n",
    "                record[\"grade\"] = new_grade\n",
    "            print(f\"Updated: {record}\")\n",
    "            return\n",
    "    print(f\"No record found for name: {search_name}\")\n",
    "\n",
    "def delete_record(database, search_name):\n",
    "    for i, record in enumerate(database):\n",
    "        if record[\"name\"] == search_name:\n",
    "            del database[i]\n",
    "            print(f\"Deleted record for name: {search_name}\")\n",
    "            return\n",
    "    print(f\"No record found for name: {search_name}\")\n",
    "\n",
    "# Example usage/tests\n",
    "display_db(db)\n",
    "add_record(db, \"David\", 18, \"B\")\n",
    "find_record(db, \"Alice\")\n",
    "update_record(db, \"Bob\", new_age=18, new_grade=\"A\")\n",
    "delete_record(db, \"Charlie\")\n",
    "display_db(db)"
   ]
  }
 ],
 "metadata": {
  "kernelspec": {
   "display_name": "Python 3",
   "language": "python",
   "name": "python3"
  },
  "language_info": {
   "codemirror_mode": {
    "name": "ipython",
    "version": 3
   },
   "file_extension": ".py",
   "mimetype": "text/x-python",
   "name": "python",
   "nbconvert_exporter": "python",
   "pygments_lexer": "ipython3",
   "version": "3.13.5"
  }
 },
 "nbformat": 4,
 "nbformat_minor": 5
}
