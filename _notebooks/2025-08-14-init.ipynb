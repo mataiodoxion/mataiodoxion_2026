{
 "cells": [
  {
   "cell_type": "markdown",
   "id": "50cda7ff",
   "metadata": {},
   "source": [
    "---\n",
    "title: 13th Understanding, 7th Book of Sorrow\n",
    "categories:\n",
    "    - Jekyll\n",
    "---"
   ]
  },
  {
   "cell_type": "markdown",
   "id": "51c1a407",
   "metadata": {},
   "source": [
    "> To rend one's enemies is to see them not as equals, but as objects - hollow of spirit or meaning."
   ]
  }
 ],
 "metadata": {
  "language_info": {
   "name": "python"
  }
 },
 "nbformat": 4,
 "nbformat_minor": 5
}
