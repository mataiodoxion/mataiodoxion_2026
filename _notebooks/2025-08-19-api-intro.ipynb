{
 "cells": [
  {
   "cell_type": "markdown",
   "id": "f45a090b",
   "metadata": {},
   "source": [
    "---\n",
    "title: Intro to APIs\n",
    "categories:\n",
    "    - APIs\n",
    "---"
   ]
  },
  {
   "cell_type": "markdown",
   "id": "6e88d15b",
   "metadata": {},
   "source": [
    "## APIs? What are those?\n",
    "![by the nine](https://external-content.duckduckgo.com/iu/?u=https%3A%2F%2Fmedia.tenor.com%2FW8Te5fvAQZcAAAAM%2Ftweaking.gif&f=1&nofb=1&ipt=5baade81efe47ccdab7bdf2ea4581fa7b81173c33b8f786d7877e2b16f13d8ed)\n",
    "\n",
    "You've probably heard the word API before, but never actually came to know what it meant. Well, we'll tell you now: APIs are **Application Programming Interfaces**.\n",
    "\n",
    "Now that we know what the acronym means, we still don't know what an API actually is. Ergo, here's an analogy. \n",
    "\n",
    "Think about how power outlets work. If you want to use some electrical appliance (like a toaster, a microwave, a charger, etc.), you plug the power cord into the socket and it works. Now notice a clear distinction here: you don't plug your cord directly into the power supply because doing so would be highly inefficient and frankly dangerous. Power outlets are APIs without the AP part. Truth to be told, you have had plethoras of experience with interfaces before this class.\n",
    "\n",
    "\n",
    "### Web Audio\n",
    "\n",
    "And wouldn't you be surprised to know that you've actually using APIs your entire life. Your browser (Chrome, Firefox, Edge, etc.) has native APIs which expose data from the browser. The audio you hear from watching videos on your browser comes from the APIs like the Web Audio API provided by JavaScript which contains pieces of code that allow the browser to manipulate audio. In the background, the browser is actually using some lower-level code (like C++ or Rust) to handle actual audio processing. In fact, any application or website you use at School is probably calling some API; Canvas will call APIs to fetch your user data, Synergy will call the grade server APIs to fetch your grades etc. APIs provide end points to access data in an easy way.\n",
    "\n",
    "![](https://external-content.duckduckgo.com/iu/?u=https%3A%2F%2Fi1.wp.com%2Fwww.ux-republic.com%2Fwp-content%2Fuploads%2F2016%2F01%2FRichardFerris-diagram.jpg%3Ffit%3D1920%252C1080%26ssl%3D1&f=1&nofb=1&ipt=d4d74080dbda6b7128257790da7c06555d814fd3297a2eb4278c53bddba314e3)\n",
    "*Web Audio API schematic*\n",
    "\n",
    "\n",
    "### Graphics Libraries\n",
    "\n",
    "Here's another lower level related example: you've probably heard of the term \"graphics libraries\" before. Basically, languages like C/C++ or Python have *libraries* of code where people have already written the lower level \"stuff\" (like CPU scheduling, ray tracing, rendering, etc.), and when you use code provided by those libraries, you're using their APIs. The lib programmer intentionally exposed pieces of your code so that you can call them and they'll handle some of the work for you.\n",
    "\n",
    "![](https://external-content.duckduckgo.com/iu/?u=https%3A%2F%2Fi.ytimg.com%2Fvi%2FizPR5TY6z9Q%2Fmaxresdefault.jpg&f=1&nofb=1&ipt=f95cde13d90bc1dcc3d415c5c6ad9148cdd30ea0a8e71ef7c01733f75024240e)\n",
    "*OpenGL (Mesa) running graphics program `glxgears`*"
   ]
  },
  {
   "cell_type": "markdown",
   "id": "531709cb",
   "metadata": {},
   "source": [
    "## Ok... But Why?\n",
    "\n",
    "APIs do a lot of things to make your life easier. Do you want to write your own custom driver for `DOM` (Document Object Model)? I know I don't. It's a lot of work, and you're really just reinventing the wheel.\n",
    "\n",
    "There's a few common categories for browser APIs:\n",
    "\n",
    "### APIs for editing webpages\n",
    "The most common would be HTML's DOM, which allows you to manipulate HTML and CSS dynamically. Every time you see some page or content display, that DOM.\n",
    "\n",
    "### APIs that fetch data\n",
    "Store webpages will use APIs that fetch data from a database, say, for product prices. This is done mainly with JavaScript's `fetch` API and sometimes the `XMLHttpRequest` API.\n",
    "\n",
    "### APIs for drawing/graphics\n",
    "The most popular are **Canvas** and **WebGL**, which allow you to update pixel data contained in HTML `<canvas>` elements. If you're using those libraries to draw things or render 3D scenes on your site, you're most likely using those graphics APIs. Some of these APIs are combined with animation APIs (like `window.requestAnimationFrame()`) to constantly update scenes like for games.\n",
    "\n",
    "### Audio and Video APIs\n",
    "APIs like `HTMLMediaElement`, the `Web Audio API`, and `WebRTC` allow you do a *lot* with multimedia. You can create custom UIs, display text tracks, etc.\n",
    "\n",
    "### Device APIs\n",
    "The native `Geolocation` API allows browsers to interact with your device hardware for things like GPS.\n",
    "\n",
    "### Client-side storage APIs\n",
    "These are things like `Web Storage API` or `IndexedDB API` which allow you to store data on the client-side, so your website can save its state between page loads or even offline.\n",
    "\n",
    "### And what if I need something else?\n",
    "A lot of third parties provide external APIs (because they tend to make revenue some of the time -- like the OpenAI API) developed by other people. For example, Mapquest, Facebook, Telegram, Youtube, Pinterest, Twitter, Mastodon (a personal favorite; decentralized p2p social networking), etc."
   ]
  },
  {
   "cell_type": "markdown",
   "id": "50dc235a",
   "metadata": {
    "vscode": {
     "languageId": "javascript"
    }
   },
   "source": [
    "<div id=\"container\"></div>\n",
    "<button onclick=\"fetchCat()\">Click Me!</button>\n",
    "\n",
    "<script>\n",
    "    async function fetchCat() {\n",
    "        const url = \"https://cataas.com/cat?position=center\";\n",
    "        const options = { method: \"GET\" };\n",
    "\n",
    "        let response = await fetch(url, options);\n",
    "\n",
    "        if (response.status === 200) {\n",
    "            const imageBlob = await response.blob();\n",
    "            const imageObjectURL = URL.createObjectURL(imageBlob);\n",
    "\n",
    "            const image = document.createElement('img');\n",
    "            image.src = imageObjectURL;\n",
    "\n",
    "            // Replace 'container' with your actual container id\n",
    "            const container = document.getElementById('container');\n",
    "            container.append(image);\n",
    "        } else {\n",
    "            console.log(\"HTTP Error: \" + response.status);\n",
    "        }\n",
    "    }\n",
    "</script>"
   ]
  }
 ],
 "metadata": {
  "kernelspec": {
   "display_name": "Python 3",
   "language": "python",
   "name": "python3"
  },
  "language_info": {
   "codemirror_mode": {
    "name": "ipython",
    "version": 3
   },
   "file_extension": ".py",
   "mimetype": "text/x-python",
   "name": "python",
   "nbconvert_exporter": "python",
   "pygments_lexer": "ipython3",
   "version": "3.13.5"
  }
 },
 "nbformat": 4,
 "nbformat_minor": 5
}
